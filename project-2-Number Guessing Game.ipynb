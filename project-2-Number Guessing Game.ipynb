{
 "cells": [
  {
   "cell_type": "code",
   "execution_count": 1,
   "id": "ff9260a8",
   "metadata": {},
   "outputs": [
    {
     "name": "stdout",
     "output_type": "stream",
     "text": [
      "Welcome to the Number Guessing Game!\n",
      "I'm thinking of a number between 1 and 100.\n",
      "You have 7 attempts to guess it.\n",
      "\n",
      "Attempt 1: Enter your guess: 12\n",
      "📉 Too low!\n",
      "\n",
      "Attempt 2: Enter your guess: 15\n",
      "📉 Too low!\n",
      "\n",
      "Attempt 3: Enter your guess: 50\n",
      "📉 Too low!\n",
      "\n",
      "Attempt 4: Enter your guess: 17\n",
      "📉 Too low!\n",
      "\n",
      "Attempt 5: Enter your guess: 78\n",
      "📈 Too high!\n",
      "\n",
      "Attempt 6: Enter your guess: 80\n",
      "📈 Too high!\n",
      "\n",
      "Attempt 7: Enter your guess: 25\n",
      "📉 Too low!\n",
      "\n",
      "😢 Sorry, you've used all 7 attempts.\n",
      "The correct number was: 60\n"
     ]
    }
   ],
   "source": [
    "import random\n",
    "\n",
    "def number_guessing_game():\n",
    "    number_to_guess = random.randint(1, 100)\n",
    "    attempts_allowed = 7\n",
    "    print(\"Welcome to the Number Guessing Game!\")\n",
    "    print(\"I'm thinking of a number between 1 and 100.\")\n",
    "    print(f\"You have {attempts_allowed} attempts to guess it.\\n\")\n",
    "    for attempt in range(1, attempts_allowed + 1):\n",
    "        try:\n",
    "            guess = int(input(f\"Attempt {attempt}: Enter your guess: \"))\n",
    "\n",
    "            if guess < 1 or guess > 100:\n",
    "                print(\"⛔ Please enter a number between 1 and 100.\")\n",
    "                continue\n",
    "            if guess < number_to_guess:\n",
    "                print(\"📉 Too low!\\n\")\n",
    "            elif guess > number_to_guess:\n",
    "                print(\"📈 Too high!\\n\")\n",
    "            else:\n",
    "                print(f\"🎉 Correct! You guessed the number in {attempt} attempts.\")\n",
    "                break\n",
    "        except ValueError:\n",
    "            print(\"⚠ Invalid input. Please enter a valid integer.\\n\")\n",
    "    else:\n",
    "        print(f\"😢 Sorry, you've used all {attempts_allowed} attempts.\")\n",
    "        print(f\"The correct number was: {number_to_guess}\")\n",
    "number_guessing_game()"
   ]
  }
 ],
 "metadata": {
  "kernelspec": {
   "display_name": "Python 3 (ipykernel)",
   "language": "python",
   "name": "python3"
  },
  "language_info": {
   "codemirror_mode": {
    "name": "ipython",
    "version": 3
   },
   "file_extension": ".py",
   "mimetype": "text/x-python",
   "name": "python",
   "nbconvert_exporter": "python",
   "pygments_lexer": "ipython3",
   "version": "3.11.5"
  }
 },
 "nbformat": 4,
 "nbformat_minor": 5
}
