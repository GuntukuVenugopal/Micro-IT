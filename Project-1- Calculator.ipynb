{
 "cells": [
  {
   "cell_type": "code",
   "execution_count": 6,
   "id": "8a7f275a",
   "metadata": {},
   "outputs": [
    {
     "name": "stdout",
     "output_type": "stream",
     "text": [
      "🧮 Simple Calculator\n",
      "Select an operation:\n",
      "1. Addition (+)\n",
      "2. Subtraction (-)\n",
      "3. Multiplication (*)\n",
      "4. Division (/)\n",
      "\n",
      "Enter choice (1/2/3/4): 2\n",
      "Enter first number: 24\n",
      "Enter second number: 12\n",
      "\n",
      "✅ Result: 24.0 - 12.0 = 12.0\n"
     ]
    }
   ],
   "source": [
    "def calculator():\n",
    "    print(\"🧮 Simple Calculator\")\n",
    "    print(\"Select an operation:\")\n",
    "    print(\"1. Addition (+)\")\n",
    "    print(\"2. Subtraction (-)\")\n",
    "    print(\"3. Multiplication (*)\")\n",
    "    print(\"4. Division (/)\\n\")\n",
    "    choice = input(\"Enter choice (1/2/3/4): \")\n",
    "    if choice not in ['1', '2', '3', '4']:\n",
    "        print(\"❌ Invalid choice. Please select 1, 2, 3, or 4.\")\n",
    "        return\n",
    "    try:\n",
    "        num1 = float(input(\"Enter first number: \"))\n",
    "        num2 = float(input(\"Enter second number: \"))\n",
    "    except ValueError:\n",
    "        print(\"⚠ Invalid input! Please enter numbers only.\")\n",
    "        return\n",
    "    if choice == '1':\n",
    "        result = num1 + num2\n",
    "        operator = '+'\n",
    "    elif choice == '2':\n",
    "        result = num1 - num2\n",
    "        operator = '-'\n",
    "    elif choice == '3':\n",
    "        result = num1 * num2\n",
    "        operator = '*'\n",
    "    elif choice == '4':\n",
    "        if num2 == 0:\n",
    "            print(\"🚫 Error: Division by zero is not allowed.\")\n",
    "            return\n",
    "        result = num1 / num2\n",
    "        operator = '/'\n",
    "    print(f\"\\n✅ Result: {num1} {operator} {num2} = {result}\")\n",
    "calculator()"
   ]
  },
  {
   "cell_type": "code",
   "execution_count": null,
   "id": "95937d33",
   "metadata": {},
   "outputs": [],
   "source": []
  }
 ],
 "metadata": {
  "kernelspec": {
   "display_name": "Python 3 (ipykernel)",
   "language": "python",
   "name": "python3"
  },
  "language_info": {
   "codemirror_mode": {
    "name": "ipython",
    "version": 3
   },
   "file_extension": ".py",
   "mimetype": "text/x-python",
   "name": "python",
   "nbconvert_exporter": "python",
   "pygments_lexer": "ipython3",
   "version": "3.11.5"
  }
 },
 "nbformat": 4,
 "nbformat_minor": 5
}
